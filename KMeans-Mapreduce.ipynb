{
 "cells": [
  {
   "cell_type": "code",
   "execution_count": 1,
   "metadata": {},
   "outputs": [],
   "source": [
    "# Common stuffs and imports\n",
    "import findspark\n",
    "from pyspark import SparkContext\n",
    "import numpy as np\n",
    "from matplotlib import pyplot as plt\n",
    "from warnings import filterwarnings\n",
    "filterwarnings('ignore')\n",
    "findspark.init()                    #This is to automate the Java path for Spark. Needs 'findspark' library installed.\n"
   ]
  },
  {
   "cell_type": "code",
   "execution_count": 2,
   "metadata": {},
   "outputs": [
    {
     "name": "stderr",
     "output_type": "stream",
     "text": [
      "Using Spark's default log4j profile: org/apache/spark/log4j-defaults.properties\n",
      "Setting default log level to \"WARN\".\n",
      "To adjust logging level use sc.setLogLevel(newLevel). For SparkR, use setLogLevel(newLevel).\n",
      "22/02/26 08:02:10 WARN NativeCodeLoader: Unable to load native-hadoop library for your platform... using builtin-java classes where applicable\n"
     ]
    }
   ],
   "source": [
    "#define file paths and initialize spark context\n",
    "centroidsPath = './centroid.txt'\n",
    "pointsPath = './data.txt'\n",
    "sc = SparkContext('local','PySpark Word Count')\n"
   ]
  },
  {
   "cell_type": "code",
   "execution_count": 3,
   "metadata": {},
   "outputs": [
    {
     "name": "stderr",
     "output_type": "stream",
     "text": [
      "                                                                                \r"
     ]
    }
   ],
   "source": [
    "# Read the centroids and data, split and convert to rdd\n",
    "text = sc.textFile(centroidsPath).flatMap(lambda line: line.split(\"/n\"))\n",
    "init_centroids = text.map(lambda x: (x.split(\"\\t\")))\n",
    "init_centroids = init_centroids.map(lambda x: [float(i) for i in x]).collect()\n",
    "init_centroids = sc.broadcast(init_centroids)\n",
    "\n",
    "#now, lets read the data\n",
    "text = sc.textFile(pointsPath).flatMap(lambda line: line.split(\"/n\"))\n",
    "points = text.map(lambda x : x.split(\"\\t\"))\n",
    "points = points.map(lambda x: [float(i) for i in x]).cache()\n",
    "                                    "
   ]
  },
  {
   "cell_type": "code",
   "execution_count": 4,
   "metadata": {},
   "outputs": [],
   "source": [
    "#This is a custom KMeans Mapper function. Description of the function is given in markdown below:\n",
    "def kMeansMap (point, centroids_global):\n",
    "    distances = []\n",
    "    for centroid in centroids_global.value:\n",
    "        dist = np.linalg.norm(np.array(point) - np.array(centroid))\n",
    "        distances.append(dist)\n",
    "    \n",
    "    # We might have multiple centroids with the same distance, so we will select one at random\n",
    "    closest_distance = np.min(distances)\n",
    "    idxs = np.argwhere(distances == closest_distance).flatten().tolist()\n",
    "    \n",
    "    selectedIdx = np.random.choice(idxs)\n",
    "    return (selectedIdx, (closest_distance,point, 1))"
   ]
  },
  {
   "cell_type": "markdown",
   "metadata": {},
   "source": [
    "### Map: Explanation\n",
    "- This is a custom mapper function. I take two input - the point and it also has access to the broadcast of centroids.\n",
    "- The distance lis is created to hold the distances between the point and each centroids. I could have done without using list and having a variable hold the min distance but in this implementation, I can randomly break ties for an equal distances.\n",
    "- Next, I pick the min distances, get all the indices (idx) corrosponding to that distance and randomly select from the list. Most of the time, the list is going to have one item.\n",
    "- Finally, I return the selected Index (of assigned centroid), the distance (so that the loss calculation is easier, the point and a value 1 (for reducing later))"
   ]
  },
  {
   "cell_type": "code",
   "execution_count": 5,
   "metadata": {},
   "outputs": [],
   "source": [
    "#Custom Reduce function. Description of the function is given in markdown below:\n",
    "def kMeansReduce (x, y):\n",
    "    keysum = x[0] + y[0]\n",
    "    sum = np.add(x[1], y[1])\n",
    "    countsum = x[2] + y[2]\n",
    "    return (keysum, sum, countsum)"
   ]
  },
  {
   "cell_type": "markdown",
   "metadata": {},
   "source": [
    "### Reduce : Explanation\n",
    "-  This is preety straight forward, could have done with a lambda function as well\n",
    "-  Here, I just add them by key for the points assigned to that particulaer centroid\n",
    "-  We get the sum and the count for that centroid, which is going to be used in next step for averaging for new centroid"
   ]
  },
  {
   "cell_type": "code",
   "execution_count": 6,
   "metadata": {},
   "outputs": [
    {
     "name": "stderr",
     "output_type": "stream",
     "text": [
      "/opt/homebrew/Caskroom/miniforge/base/lib/python3.9/site-packages/pyspark/python/lib/pyspark.zip/pyspark/shuffle.py:60: UserWarning: Please install psutil to have better support with spilling\n"
     ]
    }
   ],
   "source": [
    "loss = []               #This is to store the loss values (Total distance of all points from their centroids)\n",
    "max_interations = 20    #Stopping criteria: maximum number of iterations\n",
    "for iteration in range(max_interations):\n",
    "    \n",
    "    mapped = points.map(lambda x: kMeansMap(x, init_centroids))             #map the points to the centroids\n",
    "    reduced = mapped.reduceByKey(lambda x, y: kMeansReduce(x, y))           #reduce the mapped points to the centroids\n",
    "\n",
    "    avg_centroids = reduced.map(lambda x: [i/x[1][2] for i in x[1][1]])     #calculate the average of the points\n",
    "    \n",
    "    init_centroids = sc.broadcast(avg_centroids.collect())                  #update the centroids\n",
    "    local_cost = reduced.map(lambda x: x[1][0]).reduce(lambda x, y: x + y)  #calculate the total distance of all points from their new centroids\n",
    "\n",
    "    loss.append(local_cost)                                                 #store the loss value"
   ]
  },
  {
   "cell_type": "code",
   "execution_count": 7,
   "metadata": {},
   "outputs": [
    {
     "data": {
      "text/plain": [
       "Text(0.5, 1.0, 'K-Means clustering - Sum of Squared Distance over Iterations')"
      ]
     },
     "execution_count": 7,
     "metadata": {},
     "output_type": "execute_result"
    },
    {
     "data": {
      "image/png": "[encoded data removed]",
      "text/plain": [
       "<Figure size 576x360 with 1 Axes>"
      ]
     },
     "metadata": {
      "needs_background": "light"
     },
     "output_type": "display_data"
    }
   ],
   "source": [
    "#Plot the loss values\n",
    "fig = plt.figure()\n",
    "fig.set_size_inches(8, 5)\n",
    "plt.plot(range(1,21),loss, color='red', linewidth=2)\n",
    "plt.xlabel('Iterations')\n",
    "plt.ylabel('Sum of Squared Distance')\n",
    "plt.xticks(np.arange(1, max_interations, 1))\n",
    "plt.title('K-Means clustering - Sum of Squared Distance over Iterations')"
   ]
  }
 ],
 "metadata": {
  "interpreter": {
   "hash": "c6e4e9f98eb68ad3b7c296f83d20e6de614cb42e90992a65aa266555a3137d0d"
  },
  "kernelspec": {
   "display_name": "Python 3.9.7 ('base')",
   "language": "python",
   "name": "python3"
  },
  "language_info": {
   "codemirror_mode": {
    "name": "ipython",
    "version": 3
   },
   "file_extension": ".py",
   "mimetype": "text/x-python",
   "name": "python",
   "nbconvert_exporter": "python",
   "pygments_lexer": "ipython3",
   "version": "3.9.7"
  },
  "orig_nbformat": 4
 },
 "nbformat": 4,
 "nbformat_minor": 2
}
