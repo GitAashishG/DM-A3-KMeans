{
 "cells": [
  {
   "cell_type": "markdown",
   "metadata": {},
   "source": [
    "## K-Means Clustering from Scratch"
   ]
  },
  {
   "cell_type": "code",
   "execution_count": 1,
   "metadata": {},
   "outputs": [],
   "source": [
    "#only import necessary\n",
    "import numpy as np"
   ]
  },
  {
   "cell_type": "code",
   "execution_count": 2,
   "metadata": {},
   "outputs": [],
   "source": [
    "#read the data points\n",
    "points = np.loadtxt('data.txt', delimiter='\\t')\n",
    "\n",
    "''' Here, we will randomly select 10 points from the x to initialize the centroids.\n",
    "#read the initial centroids\n",
    "centroids = np.loadtxt('centroid.txt', delimiter='\\t')\n",
    "\n",
    "'''\n",
    "centroid_indices = np.random.choice(len(points), 10, replace=False)\n",
    "centroids = points[centroid_indices]"
   ]
  },
  {
   "cell_type": "markdown",
   "metadata": {},
   "source": [
    "## Eveything else is the same from fixed start. "
   ]
  },
  {
   "cell_type": "code",
   "execution_count": 3,
   "metadata": {},
   "outputs": [
    {
     "name": "stdout",
     "output_type": "stream",
     "text": [
      "cost: 173.11200000000005\n"
     ]
    }
   ],
   "source": [
    "#To start, we attached the closest centroid to each data point.\n",
    "members = {}        #This will hold membership of each data point\n",
    "distance = []       #this will hold the distance of each data point to their closest centroid\n",
    "for point in points:\n",
    "    #calculate the distance of each point to each centroid\n",
    "    distances = [np.linalg.norm(point - centroid) for centroid in centroids]\n",
    "\n",
    "    #find the index of the closest centroid\n",
    "    closest_centroid = distances.index(min(distances))\n",
    "    \n",
    "    #assign the point to the closest centroid    \n",
    "    members[closest_centroid] = members[closest_centroid] + [point] if closest_centroid in members else [point]\n",
    "\n",
    "    #add distance for cost mesurement\n",
    "    distance.append(distances[closest_centroid])  \n",
    "    \n",
    "#calculate the cost of the current assignment:\n",
    "cost = np.square(distances).sum()\n",
    "print(f'cost: {cost}')"
   ]
  },
  {
   "cell_type": "code",
   "execution_count": 4,
   "metadata": {},
   "outputs": [
    {
     "name": "stdout",
     "output_type": "stream",
     "text": [
      "0 23\n",
      "1 424\n",
      "2 200\n",
      "3 22\n",
      "4 6\n",
      "5 79\n",
      "6 35\n",
      "7 142\n",
      "8 21\n",
      "9 48\n"
     ]
    }
   ],
   "source": [
    "#Quickly checking membership of each centroid\n",
    "for i in range(10):\n",
    "    if i in members:\n",
    "        print(i, len(members[i]))"
   ]
  },
  {
   "cell_type": "code",
   "execution_count": 5,
   "metadata": {},
   "outputs": [
    {
     "name": "stdout",
     "output_type": "stream",
     "text": [
      "Converged at iteration #13\n"
     ]
    }
   ],
   "source": [
    "MAX_ITER = 20       #maximum number of iterations   \n",
    "cost_list = []      #list to hold the cost of each iteration\n",
    "for it in range(MAX_ITER):\n",
    "    \n",
    "    new_centroids = []\n",
    "    for i in range(10):\n",
    "        if i in members:\n",
    "            new_centroid = np.mean(members[i], axis=0)\n",
    "            new_centroids.append(new_centroid)\n",
    "        else:\n",
    "            new_centroids.append(centroids[i])\n",
    "    if np.array_equal(new_centroids, centroids):\n",
    "        print('Converged at iteration #%d' % (it + 1))\n",
    "        break\n",
    "    centroids = new_centroids\n",
    "\n",
    "    \n",
    "    members = {}        #reset membership\n",
    "    iterDistance = []   #reset distance\n",
    "    for point in points:\n",
    "        #calculate the distance of each point to each centroid\n",
    "        distances = [np.linalg.norm(point - centroid) for centroid in centroids]\n",
    "        # print(distances)\n",
    "        #find the index of the closest centroid\n",
    "        closest_centroid = distances.index(min(distances))        \n",
    "        \n",
    "        #assign the point to the closest centroid\n",
    "        members[closest_centroid] = members[closest_centroid] + [point] if closest_centroid in members else [point]\n",
    "        \n",
    "        #add the distance to the list\n",
    "        iterDistance.append(distances[closest_centroid])\n",
    "\n",
    "    localcost = np.square(iterDistance).sum()\n",
    "    cost_list.append(localcost)\n",
    "    \n",
    "    "
   ]
  },
  {
   "cell_type": "code",
   "execution_count": 6,
   "metadata": {},
   "outputs": [
    {
     "data": {
      "text/plain": [
       "[Text(0.5, 1.0, 'Cost vs Iteration')]"
      ]
     },
     "execution_count": 6,
     "metadata": {},
     "output_type": "execute_result"
    },
    {
     "data": {
      "image/png": "[encoded data removed]",
      "text/plain": [
       "<Figure size 432x288 with 1 Axes>"
      ]
     },
     "metadata": {
      "needs_background": "light"
     },
     "output_type": "display_data"
    }
   ],
   "source": [
    "#plot the cost vs iteration\n",
    "\n",
    "import seaborn as sns\n",
    "ax = sns.lineplot(x = range(len(cost_list)), y = cost_list)\n",
    "ax.set(xlabel='Iteration', ylabel='Cost')\n",
    "ax.set(title='Cost vs Iteration')\n",
    "\n",
    "    "
   ]
  }
 ],
 "metadata": {
  "interpreter": {
   "hash": "c6e4e9f98eb68ad3b7c296f83d20e6de614cb42e90992a65aa266555a3137d0d"
  },
  "kernelspec": {
   "display_name": "Python 3.9.7 ('base')",
   "language": "python",
   "name": "python3"
  },
  "language_info": {
   "codemirror_mode": {
    "name": "ipython",
    "version": 3
   },
   "file_extension": ".py",
   "mimetype": "text/x-python",
   "name": "python",
   "nbconvert_exporter": "python",
   "pygments_lexer": "ipython3",
   "version": "3.9.7"
  },
  "orig_nbformat": 4
 },
 "nbformat": 4,
 "nbformat_minor": 2
}
